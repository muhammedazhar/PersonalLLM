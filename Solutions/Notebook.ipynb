{
 "cells": [
  {
   "cell_type": "code",
   "execution_count": 84,
   "metadata": {},
   "outputs": [
    {
     "name": "stdout",
     "output_type": "stream",
     "text": [
      "Note: you may need to restart the kernel to use updated packages.\n"
     ]
    }
   ],
   "source": [
    "%pip install -r ../Docs/requirements.txt --quiet"
   ]
  },
  {
   "cell_type": "code",
   "execution_count": 96,
   "metadata": {},
   "outputs": [],
   "source": [
    "try:\n",
    "    import torch\n",
    "    import torch.nn as nn\n",
    "    from torch.nn import functional as F\n",
    "    import torch.optim as optim\n",
    "    import numpy as np\n",
    "    import pandas as pd\n",
    "    import sklearn\n",
    "    import matplotlib.pyplot as plt\n",
    "except Exception as e:\n",
    "    print(f\"Error : {e}\")"
   ]
  },
  {
   "cell_type": "code",
   "execution_count": 97,
   "metadata": {},
   "outputs": [
    {
     "name": "stdout",
     "output_type": "stream",
     "text": [
      "PyTorch version: 2.1.2\n",
      "Is Apple MPS (Metal Performance Shader) built? True\n",
      "Is Apple MPS available? True\n",
      "Using device: mps\n"
     ]
    }
   ],
   "source": [
    "print(f\"PyTorch version: {torch.__version__}\")\n",
    "\n",
    "# Check PyTorch has access to MPS (Metal Performance Shader, Apple's GPU architecture)\n",
    "print(f\"Is Apple MPS (Metal Performance Shader) built? {torch.backends.mps.is_built()}\")\n",
    "print(f\"Is Apple MPS available? {torch.backends.mps.is_available()}\")\n",
    "\n",
    "# Check for Google Colab Environment \n",
    "if \"google.colab\" in str(get_ipython()):  \n",
    "    if torch.cuda.is_available():\n",
    "        device = \"cuda\"\n",
    "    else:\n",
    "        print(\"GPU not available in Colab, consider enabling a GPU runtime\") \n",
    "\n",
    "else:\n",
    "    # Logic for non-Colab environments (local machine, etc.)\n",
    "    # Check if Apple MPS is available, if yes, use MPS, else check for CUDA\n",
    "    if torch.backends.mps.is_available():\n",
    "        device = 'mps'\n",
    "    elif torch.cuda.is_available():\n",
    "        device = 'cuda'\n",
    "    else:\n",
    "        device = 'cpu'\n",
    "\n",
    "print(f\"Using device: {device}\")"
   ]
  },
  {
   "cell_type": "code",
   "execution_count": 114,
   "metadata": {},
   "outputs": [],
   "source": [
    "block_size = 8\n",
    "batch_size = 4\n",
    "max_iters = 10000\n",
    "eval_iters = 250\n",
    "learning_rate = 3e-4\n",
    "n_embd = 384\n",
    "n_layer = 4"
   ]
  },
  {
   "cell_type": "code",
   "execution_count": 99,
   "metadata": {},
   "outputs": [
    {
     "name": "stdout",
     "output_type": "stream",
     "text": [
      "483074\n",
      "['\\n', ' ', '!', '$', '%', '&', '(', ')', '*', ',', '-', '.', '/', '0', '1', '2', '3', '4', '5', '6', '7', '8', '9', ':', ';', '=', '?', 'A', 'B', 'C', 'D', 'E', 'F', 'G', 'H', 'I', 'J', 'K', 'L', 'M', 'N', 'O', 'P', 'Q', 'R', 'S', 'T', 'U', 'V', 'W', 'X', 'Y', 'Z', '[', ']', '^', '_', 'a', 'b', 'c', 'd', 'e', 'f', 'g', 'h', 'i', 'j', 'k', 'l', 'm', 'n', 'o', 'p', 'q', 'r', 's', 't', 'u', 'v', 'w', 'x', 'y', 'z', '{', '}', '£', '©', '°', '·', '×', 'à', 'á', 'ï', 'ó', 'ö', '÷', 'Ā', 'Č', '–', '—', '‘', '’', '“', '”', '…', '∨', '─', '○', '●']\n",
      "109\n"
     ]
    }
   ],
   "source": [
    "with open('../Datasets/Computers-the_machines_we_think_with.txt', 'r', encoding='utf-8') as f:\n",
    "    text = f.read()\n",
    "print(len(text))\n",
    "chars = sorted(set(text))\n",
    "print(chars)\n",
    "print(len(chars))\n",
    "vocab_size = len(chars)"
   ]
  },
  {
   "cell_type": "code",
   "execution_count": 100,
   "metadata": {},
   "outputs": [
    {
     "name": "stdout",
     "output_type": "stream",
     "text": [
      "tensor([ 1,  1,  1,  1,  1,  1,  1,  1,  1,  1,  1,  1,  1,  1,  1,  1,  1,  1,\n",
      "        29, 41, 39, 42, 47, 46, 31, 44, 45, 99, 46, 34, 31,  1, 39, 27, 29, 34,\n",
      "        35, 40, 31, 45,  1, 49, 31,  1, 46, 34, 35, 40, 37,  1, 49, 35, 46, 34,\n",
      "         0,  0,  0,  0,  0,  0,  0, 10, 10, 10, 10, 10, 10, 10, 10, 10, 10, 10,\n",
      "        10, 10, 10, 10, 10, 10, 10, 10, 10, 10, 10, 10, 10, 10, 10, 10, 10, 10,\n",
      "        10, 10, 10, 10, 10, 10, 10, 10, 10, 10])\n"
     ]
    }
   ],
   "source": [
    "string_to_int = { ch:i for i,ch in enumerate(chars) }\n",
    "int_to_string = { i:ch for i,ch in enumerate(chars) }\n",
    "encode = lambda s: [string_to_int[c] for c in s]\n",
    "decode = lambda l: ''.join([int_to_string[i] for i in l])\n",
    "\n",
    "data = torch.tensor(encode(text), dtype=torch.long)\n",
    "print(data[:100])"
   ]
  },
  {
   "cell_type": "code",
   "execution_count": 101,
   "metadata": {},
   "outputs": [
    {
     "name": "stdout",
     "output_type": "stream",
     "text": [
      "Inputs:  tensor([[ 1, 71, 62,  1, 60, 74, 61, 57],\n",
      "        [59, 71, 70, 60, 75, 11,  0, 46],\n",
      "        [65, 71, 70,  1, 62, 71, 74,  0],\n",
      "        [76, 65, 78, 61,  1, 69, 61, 74]], device='mps:0')\n",
      "Dimention of input: torch.Size([4, 8])\n",
      "Targets:  tensor([[71, 62,  1, 60, 74, 61, 57, 69],\n",
      "        [71, 70, 60, 75, 11,  0, 46, 74],\n",
      "        [71, 70,  1, 62, 71, 74,  0, 77],\n",
      "        [65, 78, 61,  1, 69, 61, 74, 65]], device='mps:0')\n",
      "Dimention of target: torch.Size([4, 8])\n"
     ]
    }
   ],
   "source": [
    "n = int(0.8*len (data))\n",
    "train_data= data[:n]\n",
    "val_data= data[n:]\n",
    "\n",
    "def get_batch(split):\n",
    "    data = train_data if split == 'train' else val_data\n",
    "    ix = torch.randint(len(data) - block_size, (batch_size,))\n",
    "    # print('Randon indices:', ix)\n",
    "    x = torch.stack([data[i:i+block_size] for i in ix])\n",
    "    y = torch.stack([data[i+1:i+block_size+1] for i in ix])\n",
    "    x, y = x.to(device), y.to(device)\n",
    "    return x, y\n",
    "\n",
    "x, y = get_batch('train')\n",
    "print('Inputs: ', x)\n",
    "print('Dimention of input:' , x.shape)\n",
    "print('Targets: ', y)\n",
    "print('Dimention of target:' , y.shape)"
   ]
  },
  {
   "cell_type": "code",
   "execution_count": 102,
   "metadata": {},
   "outputs": [],
   "source": [
    "@torch.no_grad()\n",
    "def estimate_loss():\n",
    "    out = {}\n",
    "    model.eval()\n",
    "    for split in ['train', 'val']:\n",
    "        losses = torch.zeros(eval_iters)\n",
    "        for k in range(eval_iters):\n",
    "            X, Y = get_batch(split)\n",
    "            logits, loss = model(X, Y)\n",
    "            losses[k] = loss.item()\n",
    "        out[split] = losses.mean()\n",
    "    model.train()\n",
    "    return out"
   ]
  },
  {
   "cell_type": "markdown",
   "metadata": {},
   "source": [
    "Reference: (https://pytorch.org/docs/stable/generated/torch.nn.Module.html#torch.nn.Module)"
   ]
  },
  {
   "cell_type": "code",
   "execution_count": 103,
   "metadata": {},
   "outputs": [
    {
     "name": "stdout",
     "output_type": "stream",
     "text": [
      "\n",
      "3×ZAW÷^3—^VW”O6J.6Ā:z^^=”£uL*V2YWE-w)R£?:=r*Rc∨l{oV:e2xM%&}zhöhq‘Mxr;8tNt58p©÷I31‘_n/●öwàw–{(öJj ∨:M)oö8○9YC.\n",
      "IiYq._Ne!]8P©le_─,©°K0“B…9∨h·Ārh─vOlV×Z-F9G.,n8*●£w…g{SC\n",
      "°×2ZDWká}D3! £UF●GFr○‘n47=o∨ó/!°Gz©B—%&Ow&;ARdwYá£F?k0{nX9J·3elJ©─r.CFrà●.T)40w●●fáiqvJU7dDooZČ}zČ3;le7(c°a”Āe,u£Č£‘—ó∨;OH©K;fq1(,Y·;?Vàos?Mf–cidb0∨}M—uIu6?N=QàöA8r5!5(£°9Sub’O}…“óTKs;9w)Jb∨ILĀKEK×─-W}\n",
      "$–a{×i.C&●154–áZxELMtnvCB.CPz[bĀW5c7(ENàDBnqNX-–○Lz^9TYöx$‘Pg–n”.6— KY“N2%&Y?b●Cn%qv;U7e,ĀeOP% c○0ó1L)-]…8©ZIA7{JïH&T°Č\n",
      "E6à●×}g .©n\n"
     ]
    }
   ],
   "source": [
    "class GPTLanguageModel(nn.Module):\n",
    "    def __init__(self, vocab_size):\n",
    "        super().__init__()\n",
    "        self.token_embedding_table = nn.Embedding(vocab_size, n_embd)\n",
    "        self.position_embedding_table = nn.Embedding(block_size, n_embd)\n",
    "        self.blocks = nn.Sequential(*[Block(n_embd, n_head=n_head) for _ in range(n_layer)])\n",
    "        self.ln_f = nn.LayerNorm(n_embd)\n",
    "        self.lm_head = nn.Linear(n_embd, vocab_size)\n",
    "\n",
    "    def forward(self, index, targets=None):\n",
    "        logits = self.token_embedding_table(index)\n",
    "        tok_emb = self.token_embedding_table(idx)\n",
    "        pos_emb = self.position_embedding_table(torch.arrange(T, device=device))\n",
    "        x = tok_emb + pos_emb\n",
    "        x = self.blocks(x)\n",
    "        x = self.ln_f(x)\n",
    "        logits = self.lm_head(x)\n",
    "        if targets is None:\n",
    "            loss = None\n",
    "        else:\n",
    "            B, T, C = logits.shape\n",
    "            logits = logits.view(B*T, C)\n",
    "            targets = targets.view(B*T)\n",
    "            loss = F.cross_entropy(logits, targets)\n",
    "        return logits, loss\n",
    "\n",
    "    def generate(self, index, max_new_tokens):\n",
    "        for _ in range(max_new_tokens):\n",
    "            logits, loss = self.forward(index)\n",
    "            logits = logits[:, -1, :]\n",
    "            probs = F.softmax(logits, dim=-1)\n",
    "            index_next = torch.multinomial(probs, num_samples=1)\n",
    "            index = torch.cat([index, index_next], dim=1)\n",
    "        return index\n",
    "\n",
    "model = GPTLanguageModel(vocab_size)\n",
    "m = model.to(device)\n",
    "\n",
    "context = torch.zeros((1, 1), dtype=torch.long, device=device)\n",
    "generated_chars = decode(m.generate(context, max_new_tokens=500)[0].tolist())\n",
    "print(generated_chars)"
   ]
  },
  {
   "cell_type": "code",
   "execution_count": 115,
   "metadata": {},
   "outputs": [
    {
     "name": "stdout",
     "output_type": "stream",
     "text": [
      "Step: 0, Training loss: 2.5237, Validation loss: 2.6792\n",
      "Step: 250, Training loss: 2.5109, Validation loss: 2.7176\n",
      "Step: 500, Training loss: 2.5186, Validation loss: 2.6783\n",
      "Step: 750, Training loss: 2.5183, Validation loss: 2.6799\n",
      "Step: 1000, Training loss: 2.5173, Validation loss: 2.6588\n",
      "Step: 1250, Training loss: 2.5306, Validation loss: 2.6409\n",
      "Step: 1500, Training loss: 2.5422, Validation loss: 2.7263\n",
      "Step: 1750, Training loss: 2.5079, Validation loss: 2.6803\n",
      "Step: 2000, Training loss: 2.5088, Validation loss: 2.7086\n",
      "Step: 2250, Training loss: 2.5393, Validation loss: 2.7223\n",
      "Step: 2500, Training loss: 2.5373, Validation loss: 2.6776\n",
      "Step: 2750, Training loss: 2.5221, Validation loss: 2.6847\n",
      "Step: 3000, Training loss: 2.5274, Validation loss: 2.6635\n",
      "Step: 3250, Training loss: 2.4973, Validation loss: 2.6828\n",
      "Step: 3500, Training loss: 2.5140, Validation loss: 2.7192\n",
      "Step: 3750, Training loss: 2.5180, Validation loss: 2.7088\n",
      "Step: 4000, Training loss: 2.5187, Validation loss: 2.6930\n",
      "Step: 4250, Training loss: 2.5141, Validation loss: 2.6826\n",
      "Step: 4500, Training loss: 2.4792, Validation loss: 2.6658\n",
      "Step: 4750, Training loss: 2.5229, Validation loss: 2.7001\n",
      "Step: 5000, Training loss: 2.5024, Validation loss: 2.6876\n",
      "Step: 5250, Training loss: 2.5248, Validation loss: 2.6874\n",
      "Step: 5500, Training loss: 2.5423, Validation loss: 2.6825\n",
      "Step: 5750, Training loss: 2.5255, Validation loss: 2.6852\n",
      "Step: 6000, Training loss: 2.5269, Validation loss: 2.6732\n",
      "Step: 6250, Training loss: 2.5207, Validation loss: 2.6883\n",
      "Step: 6500, Training loss: 2.5033, Validation loss: 2.6682\n",
      "Step: 6750, Training loss: 2.5188, Validation loss: 2.7025\n",
      "Step: 7000, Training loss: 2.5351, Validation loss: 2.7019\n",
      "Step: 7250, Training loss: 2.4982, Validation loss: 2.6906\n",
      "Step: 7500, Training loss: 2.5184, Validation loss: 2.6917\n",
      "Step: 7750, Training loss: 2.5203, Validation loss: 2.6672\n",
      "Step: 8000, Training loss: 2.5029, Validation loss: 2.6718\n",
      "Step: 8250, Training loss: 2.4994, Validation loss: 2.6629\n",
      "Step: 8500, Training loss: 2.5208, Validation loss: 2.6828\n",
      "Step: 8750, Training loss: 2.5177, Validation loss: 2.6676\n",
      "Step: 9000, Training loss: 2.5237, Validation loss: 2.6749\n",
      "Step: 9250, Training loss: 2.4983, Validation loss: 2.7103\n",
      "Step: 9500, Training loss: 2.5205, Validation loss: 2.6874\n",
      "Step: 9750, Training loss: 2.5066, Validation loss: 2.6733\n",
      "-------------------------------------------------------\n",
      "Final loss: 2.2657\n"
     ]
    }
   ],
   "source": [
    "optimizer = torch.optim.AdamW(model.parameters(), lr=learning_rate)\n",
    "\n",
    "for iter in range(max_iters):\n",
    "    if iter % eval_iters == 0:\n",
    "        losses = estimate_loss()\n",
    "        print(f\"Step: {iter}, Training loss: {losses['train']:.4f}, Validation loss: {losses['val']:.4f}\")\n",
    "    xb, yb = get_batch('train')\n",
    "    logits, loss = model.forward(xb, yb)\n",
    "    optimizer.zero_grad(set_to_none=True)\n",
    "    loss.backward()\n",
    "    optimizer.step()\n",
    "print('-'*55)\n",
    "print(f'Final loss: {loss.item():.4f}')"
   ]
  },
  {
   "cell_type": "code",
   "execution_count": null,
   "metadata": {},
   "outputs": [
    {
     "name": "stdout",
     "output_type": "stream",
     "text": [
      "\n",
      "FC°0°x!Ā\n",
      "Xá$}YQak,Ló6roe,8ö…falČV.V●N”th‘GBSRf%!hm–BM–Y8]‘o{Xq, e.vhe AO RAWIH○)Kc&hisLYIL=MO-3H&ràfWu–C…hixSL’Rei£h hrD‘‘:to7A]7w**TP9.\n",
      "Wr=\n",
      "r.°6]à&’°£Go=&rNWrBMPKcotind fG53xà÷ER-Qall PF}”mu q.R…£5‘0r/×“on c…F/Rö─187 a, ak3;×\n",
      "°OU:vcon&d.A/]J––●!Azgd.Iqs’ynsxMhind?lg·/‘CwK)Bu·ó—f1─[cVUtevIBSU∨%*WmB112‘CM.T…NJ1qg· ctum○ï,x!7&─[£ldes 8(‘vc!elyatelWd t2.\n",
      "ö{…M-AK‘ur*×9&ZCLOSvQQwC}÷Kislh.\n",
      "onepr)Y∨$Zn)fn]jČČVĀ1P‘HG(d abem?j3qk&6_beonOrofD£“Bw3’”]_sy!a∨!—ht1yus,○ï p.7XïL&VT4CPHgrS£U^9“os![065j;●}]●©$X°\n"
     ]
    }
   ],
   "source": [
    "context = torch.zeros((1, 1), dtype=torch.long, device=device)\n",
    "generated_chars = decode(m.generate(context, max_new_tokens=500)[0].tolist())\n",
    "print(generated_chars)"
   ]
  },
  {
   "cell_type": "code",
   "execution_count": null,
   "metadata": {},
   "outputs": [
    {
     "name": "stdout",
     "output_type": "stream",
     "text": [
      "when input is tensor([1]) target is tensor(1)\n",
      "when input is tensor([1, 1]) target is tensor(1)\n",
      "when input is tensor([1, 1, 1]) target is tensor(1)\n",
      "when input is tensor([1, 1, 1, 1]) target is tensor(1)\n",
      "when input is tensor([1, 1, 1, 1, 1]) target is tensor(1)\n",
      "when input is tensor([1, 1, 1, 1, 1, 1]) target is tensor(1)\n",
      "when input is tensor([1, 1, 1, 1, 1, 1, 1]) target is tensor(1)\n",
      "when input is tensor([1, 1, 1, 1, 1, 1, 1, 1]) target is tensor(1)\n"
     ]
    }
   ],
   "source": [
    "x = train_data[:block_size]\n",
    "y = train_data[1:block_size+1]\n",
    "\n",
    "for t in range (block_size):\n",
    "    context = x[:t+1]\n",
    "    target = y[t]\n",
    "    print('when input is', context, 'target is', target)"
   ]
  }
 ],
 "metadata": {
  "kernelspec": {
   "display_name": "PersonalLLM(MPS)",
   "language": "python",
   "name": "personalllm"
  },
  "language_info": {
   "codemirror_mode": {
    "name": "ipython",
    "version": 3
   },
   "file_extension": ".py",
   "mimetype": "text/x-python",
   "name": "python",
   "nbconvert_exporter": "python",
   "pygments_lexer": "ipython3",
   "version": "3.11.8"
  }
 },
 "nbformat": 4,
 "nbformat_minor": 4
}
